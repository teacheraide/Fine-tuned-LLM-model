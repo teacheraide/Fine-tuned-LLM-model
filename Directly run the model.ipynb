{
 "cells": [
  {
   "cell_type": "code",
   "execution_count": 5,
   "id": "2d97240d-87ef-467b-a39d-0d63ec872949",
   "metadata": {},
   "outputs": [
    {
     "name": "stderr",
     "output_type": "stream",
     "text": [
      "Loading checkpoint shards: 100%|██████████| 2/2 [00:02<00:00,  1.08s/it]\n"
     ]
    },
    {
     "name": "stdout",
     "output_type": "stream",
     "text": [
      "Generated Text 1: Generate a simple high school physics problem for me.\n",
      "\n",
      "**Problem:**\n",
      "\n",
      "A ball is thrown straight up into the air.  It reaches a maximum height of 20 meters.  What is the ball's initial velocity?\n",
      "\n",
      "**Hints:**\n",
      "\n",
      "* Use the equations of motion for uniformly accelerated motion.\n",
      "* Remember that the acceleration due to gravity is -9.8 m/s².\n",
      "* The ball's velocity at the maximum height is 0 m/s.\n",
      "\n",
      "**Solution:**\n",
      "\n",
      "1. **Identify the knowns and unknowns:**\n",
      "   * Knowns: \n",
      "      * Maximum height (h) = 20 m\n",
      "      * Acceleration due to gravity (g) = -9.8 m/s²\n",
      "      * Final velocity (v) = 0 m/s at the maximum height\n",
      "   * Unknown: Initial velocity (v₀)\n",
      "\n",
      "2. **Choose the appropriate equation:**\n",
      "   * We can use the following equation of motion: \n",
      "      v² = v₀² + 2gh \n",
      "\n",
      "3. **Solve for the unknown:**\n",
      "   * Since the final velocity is 0 m/s at the maximum height, we can substitute:\n",
      "      0² = v₀² + 2(-9.8 m/s²)(20 m)\n",
      "   * Simplify and solve for v₀:\n",
      "      0 = v₀² - 392 m²/s²\n",
      "      v₀² = 392 m²/s²\n",
      "      v₀ = √392 m²/s² \n",
      "      v₀ ≈ 19.8 m/s\n",
      "\n",
      "**Answer:** The ball's initial velocity was approximately 19.8 m/s. \n",
      "\n",
      "\n",
      "Let me know if you'd like to try another problem! \n",
      "\n"
     ]
    }
   ],
   "source": [
    "from transformers import AutoModelForCausalLM, AutoTokenizer, pipeline\n",
    "\n",
    "# Load the tokenizer and model from the current directory\n",
    "model_dir = \".\"  # Current directory\n",
    "\n",
    "# Load the tokenizer\n",
    "tokenizer = AutoTokenizer.from_pretrained(model_dir)\n",
    "\n",
    "# Load the model\n",
    "model = AutoModelForCausalLM.from_pretrained(model_dir, trust_remote_code=True)\n",
    "\n",
    "# Create a text generation pipeline\n",
    "generator = pipeline(\"text-generation\", model=model, tokenizer=tokenizer)\n",
    "\n",
    "# Run a case with input text\n",
    "input_text = \"Generate a simple high school physics problem for me\"\n",
    "output = generator(input_text, max_length=500, num_return_sequences=1,truncation=True)\n",
    "\n",
    "# Print the output\n",
    "for i, generated_text in enumerate(output):\n",
    "    print(f\"Generated Text {i + 1}: {generated_text['generated_text']}\")"
   ]
  },
  {
   "cell_type": "code",
   "execution_count": null,
   "id": "29a24f28-00fd-463f-bd33-73b007bdaef2",
   "metadata": {},
   "outputs": [],
   "source": []
  }
 ],
 "metadata": {
  "kernelspec": {
   "display_name": "Python 3 (ipykernel)",
   "language": "python",
   "name": "python3"
  },
  "language_info": {
   "codemirror_mode": {
    "name": "ipython",
    "version": 3
   },
   "file_extension": ".py",
   "mimetype": "text/x-python",
   "name": "python",
   "nbconvert_exporter": "python",
   "pygments_lexer": "ipython3",
   "version": "3.12.7"
  }
 },
 "nbformat": 4,
 "nbformat_minor": 5
}
